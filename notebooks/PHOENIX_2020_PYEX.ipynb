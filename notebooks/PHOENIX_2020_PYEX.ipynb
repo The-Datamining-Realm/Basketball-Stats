{
 "cells": [
  {
   "cell_type": "code",
   "execution_count": 1,
   "metadata": {},
   "outputs": [],
   "source": [
    "import pandas as pd\n",
    "import os"
   ]
  },
  {
   "cell_type": "code",
   "execution_count": 2,
   "metadata": {},
   "outputs": [],
   "source": [
    "os.chdir('./grandTeamLogs/20')"
   ]
  },
  {
   "cell_type": "code",
   "execution_count": 4,
   "metadata": {},
   "outputs": [
    {
     "data": {
      "text/html": [
       "<div>\n",
       "<style scoped>\n",
       "    .dataframe tbody tr th:only-of-type {\n",
       "        vertical-align: middle;\n",
       "    }\n",
       "\n",
       "    .dataframe tbody tr th {\n",
       "        vertical-align: top;\n",
       "    }\n",
       "\n",
       "    .dataframe thead th {\n",
       "        text-align: right;\n",
       "    }\n",
       "</style>\n",
       "<table border=\"1\" class=\"dataframe\">\n",
       "  <thead>\n",
       "    <tr style=\"text-align: right;\">\n",
       "      <th></th>\n",
       "      <th>date_game</th>\n",
       "      <th>opp_name</th>\n",
       "      <th>game_result</th>\n",
       "      <th>pts</th>\n",
       "      <th>opp_pts</th>\n",
       "      <th>wins</th>\n",
       "      <th>losses</th>\n",
       "      <th>game_streak</th>\n",
       "    </tr>\n",
       "  </thead>\n",
       "  <tbody>\n",
       "    <tr>\n",
       "      <th>0</th>\n",
       "      <td>Wed, Oct 23, 2019</td>\n",
       "      <td>Sacramento Kings</td>\n",
       "      <td>W</td>\n",
       "      <td>124</td>\n",
       "      <td>95</td>\n",
       "      <td>1</td>\n",
       "      <td>0</td>\n",
       "      <td>W 1</td>\n",
       "    </tr>\n",
       "    <tr>\n",
       "      <th>1</th>\n",
       "      <td>Fri, Oct 25, 2019</td>\n",
       "      <td>Denver Nuggets</td>\n",
       "      <td>L</td>\n",
       "      <td>107</td>\n",
       "      <td>108</td>\n",
       "      <td>1</td>\n",
       "      <td>1</td>\n",
       "      <td>L 1</td>\n",
       "    </tr>\n",
       "    <tr>\n",
       "      <th>2</th>\n",
       "      <td>Sat, Oct 26, 2019</td>\n",
       "      <td>Los Angeles Clippers</td>\n",
       "      <td>W</td>\n",
       "      <td>130</td>\n",
       "      <td>122</td>\n",
       "      <td>2</td>\n",
       "      <td>1</td>\n",
       "      <td>W 1</td>\n",
       "    </tr>\n",
       "  </tbody>\n",
       "</table>\n",
       "</div>"
      ],
      "text/plain": [
       "           date_game              opp_name game_result  pts  opp_pts  wins  \\\n",
       "0  Wed, Oct 23, 2019      Sacramento Kings           W  124       95     1   \n",
       "1  Fri, Oct 25, 2019        Denver Nuggets           L  107      108     1   \n",
       "2  Sat, Oct 26, 2019  Los Angeles Clippers           W  130      122     2   \n",
       "\n",
       "   losses game_streak  \n",
       "0       0         W 1  \n",
       "1       1         L 1  \n",
       "2       1         W 1  "
      ]
     },
     "execution_count": 4,
     "metadata": {},
     "output_type": "execute_result"
    }
   ],
   "source": [
    "df = pd.read_csv('2020-PHO.csv')\n",
    "df.head(3)"
   ]
  },
  {
   "cell_type": "code",
   "execution_count": 9,
   "metadata": {},
   "outputs": [],
   "source": [
    "points_scored = sum(df.pts)\n",
    "points_allowed = sum(df.opp_pts)"
   ]
  },
  {
   "cell_type": "code",
   "execution_count": 11,
   "metadata": {},
   "outputs": [
    {
     "data": {
      "text/plain": [
       "50.671453927321906"
      ]
     },
     "execution_count": 11,
     "metadata": {},
     "output_type": "execute_result"
    }
   ],
   "source": [
    "winning_predicted = (points_scored**13.91/(points_allowed**13.91+points_scored**13.91))*100\n",
    "winning_predicted"
   ]
  }
 ],
 "metadata": {
  "kernelspec": {
   "display_name": "Python 3",
   "language": "python",
   "name": "python3"
  },
  "language_info": {
   "codemirror_mode": {
    "name": "ipython",
    "version": 3
   },
   "file_extension": ".py",
   "mimetype": "text/x-python",
   "name": "python",
   "nbconvert_exporter": "python",
   "pygments_lexer": "ipython3",
   "version": "3.8.6rc1"
  }
 },
 "nbformat": 4,
 "nbformat_minor": 4
}
