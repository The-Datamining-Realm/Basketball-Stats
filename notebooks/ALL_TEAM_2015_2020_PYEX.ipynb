{
 "cells": [
  {
   "cell_type": "code",
   "execution_count": 1,
   "metadata": {},
   "outputs": [],
   "source": [
    "from matplotlib import pyplot as plt\n",
    "import numpy as np\n",
    "import pandas as pd\n",
    "import os"
   ]
  },
  {
   "cell_type": "code",
   "execution_count": 2,
   "metadata": {
    "scrolled": false
   },
   "outputs": [
    {
     "name": "stdout",
     "output_type": "stream",
     "text": [
      "Successfully created the directory yearGraphs \n"
     ]
    }
   ],
   "source": [
    "#!/usr/bin/env python\n",
    "# coding: utf-8\n",
    "\n",
    "# In[1]:\n",
    "\n",
    "\n",
    "from matplotlib import pyplot as plt\n",
    "import numpy as np\n",
    "import pandas as pd\n",
    "import os\n",
    "import math\n",
    "\n",
    "# In[2]:\n",
    "\n",
    "\n",
    "team_code = ['TOR','NYK','BOS','BRK','PHI','CLE','IND','DET','CHI','MIL','MIA','ATL','CHO','WAS','ORL','OKC','POR','UTA','DEN','MIN','GSW','LAC','SAC','PHO','LAL','SAS','DAL','MEM','HOU','NOP']\n",
    "team_prediction = [0 for i in range(0,30)]\n",
    "team_result = [0 for i in range(0,30)]\n",
    "year_deviation = [0 for i in range(0,6)]\n",
    "residual_variance = [0 for i in range(0,6)]\n",
    "year_stDev = [0 for i in range(0,6)]\n",
    "sum_of_deviations = 0\n",
    "count = 0\n",
    "os.chdir('../grandTeamLogs')\n",
    "path = \"yearGraphs\"\n",
    "try:\n",
    "    if not os.path.exists(path):\n",
    "        os.mkdir(path)\n",
    "except OSError:\n",
    "    print (\"Creation of the directory %s failed\" % path)\n",
    "else:\n",
    "    print (\"Successfully created the directory %s \" % path)\n",
    "def pythagorean_expectation(scored, allowed):\n",
    "    return round(scored**13.91/(allowed**13.91+scored**13.91),4)\n",
    "for x in range(15,21):\n",
    "    os.chdir(str(x))\n",
    "    for code in team_code:\n",
    "        df = pd.read_csv('20'+ str(x) + '-' + code + '.csv')\n",
    "        pts_scored = sum(df.pts)\n",
    "        pts_allowed = sum(df.opp_pts)\n",
    "        result = pythagorean_expectation(pts_scored, pts_allowed)\n",
    "        team_prediction[team_code.index(code)] = result\n",
    "        if df['wins'].iloc[-1] != df['wins'].max():\n",
    "            team_result[team_code.index(code)] = round(((df['wins'].iloc[-1]+df['wins'].max())/df.shape[0]),4)\n",
    "        else:\n",
    "            team_result[team_code.index(code)] = round((df['wins'].iloc[-1]/df.shape[0]),4)\n",
    "    true_winning_mean = round(sum(team_result) / len(team_code),4)\n",
    "    for team in team_prediction:\n",
    "        sum_of_deviations += (team - true_winning_mean)**2\n",
    "    year_deviation[count] = round(sum_of_deviations,4)\n",
    "    count += 1\n",
    "    sum_of_deviations = 0\n",
    "    os.chdir('../')\n",
    "    \n",
    "for sum in year_deviation:\n",
    "    residual_variance[year_deviation.index(sum)] = round(sum / len(team_code),6)\n",
    "    year_stDev[year_deviation.index(sum)] = round(math.sqrt(sum / len(team_code)),6)\n",
    "    \n",
    "f = open(\"resultPE.txt\",\"a\")\n",
    "f.write('Sum of Deviations:\\n')\n",
    "f.writelines(\"%s\\n\" % deviation for deviation in year_deviation)\n",
    "f.write('Residual Variance:\\n')\n",
    "f.writelines(\"%s\\n\" % variance for variance in residual_variance)\n",
    "f.write('Standard Deviation:\\n')\n",
    "f.writelines(\"%s\\n\" % std for std in year_stDev)\n",
    "f.close()"
   ]
  },
  {
   "cell_type": "code",
   "execution_count": null,
   "metadata": {},
   "outputs": [],
   "source": []
  }
 ],
 "metadata": {
  "kernelspec": {
   "display_name": "Python 3",
   "language": "python",
   "name": "python3"
  },
  "language_info": {
   "codemirror_mode": {
    "name": "ipython",
    "version": 3
   },
   "file_extension": ".py",
   "mimetype": "text/x-python",
   "name": "python",
   "nbconvert_exporter": "python",
   "pygments_lexer": "ipython3",
   "version": "3.8.6rc1"
  }
 },
 "nbformat": 4,
 "nbformat_minor": 4
}
