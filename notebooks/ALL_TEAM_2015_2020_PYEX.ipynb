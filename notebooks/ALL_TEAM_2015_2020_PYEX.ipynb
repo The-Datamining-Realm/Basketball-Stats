{
 "cells": [
  {
   "cell_type": "code",
   "execution_count": 1,
   "metadata": {},
   "outputs": [],
   "source": [
    "from matplotlib import pyplot as plt\n",
    "import numpy as np\n",
    "import pandas as pd\n",
    "import os"
   ]
  },
  {
   "cell_type": "code",
   "execution_count": 2,
   "metadata": {},
   "outputs": [
    {
     "name": "stdout",
     "output_type": "stream",
     "text": [
      "Successfully created the directory yearGraphs \n",
      "/Users/lamnguyen/Downloads/dmp/Basketball-Stats/grandTeamLogs/15\n",
      "0\n",
      "17\n",
      "0\n",
      "2\n",
      "18\n",
      "14\n",
      "38\n",
      "32\n",
      "6\n",
      "2\n",
      "37\n",
      "8\n",
      "33\n",
      "6\n",
      "25\n",
      "45\n",
      "1\n",
      "38\n",
      "30\n",
      "16\n",
      "16\n",
      "7\n",
      "29\n",
      "39\n",
      "21\n",
      "3\n",
      "1\n",
      "6\n",
      "9\n",
      "0\n"
     ]
    }
   ],
   "source": [
    "team_code = ['TOR','NYK','BOS','BRK','PHI','CLE','IND','DET','CHI','MIL','MIA','ATL','CHO','WAS','ORL','OKC','POR','UTA','DEN','MIN','GSW','LAC','SAC','PHO','LAL','SAS','DAL','MEM','HOU','NOP']\n",
    "team_prediction = [0 for i in range(0,30)]\n",
    "team_result = [0 for i in range(0,30)]\n",
    "os.chdir('../grandTeamLogs')\n",
    "path = \"yearGraphs\"\n",
    "try:\n",
    "    if not os.path.exists(path):\n",
    "        os.mkdir(path)\n",
    "except OSError:\n",
    "    print (\"Creation of the directory %s failed\" % path)\n",
    "else:\n",
    "    print (\"Successfully created the directory %s \" % path)\n",
    "def pythagorean_expectation(scored, allowed):\n",
    "    return round((scored**13.91/(allowed**13.91+scored**13.91))*100)\n",
    "for x in range(15,16):\n",
    "    os.chdir(str(x))\n",
    "    print(os.getcwd())\n",
    "    df = pd.read_csv('ALL-TEAMS.csv')\n",
    "    for code in team_code:\n",
    "        pts_scored = df[df.abbr == code]['pts'].sum()\n",
    "        pts_allowed = df[df.abbr == code]['opp_pts'].sum()\n",
    "        result = pythagorean_expectation(pts_scored, pts_allowed)\n",
    "        team_prediction[team_code.index(code)] = result\n",
    "        print(df[df.abbr == code]['wins'].iloc[-1])\n",
    "#         print(df[df.abbr == code]['wins'].max())\n",
    "#         if df[df.abbr == code]['wins'].iloc[-1] != df[df.abbr == code]['wins'].max():\n",
    "#             team_result[team_code.index(code)] = round(((df[df.abbr == code]['wins'].iloc[-1]+df[df.abbr == code]['wins'].max())/df[df.abbr == code].shape[0])*100)\n",
    "#         else:\n",
    "#             team_result[team_code.index(code)] = round((df['wins'].iloc[-1]/df.shape[0])*100)\n",
    "#     os.chdir('../')\n",
    "# team_result\n",
    "#     ypos = np.arange(0,3*len(team_code),3)\n",
    "#     ypos2 = [i+1 for i in ypos]\n",
    "#     fig, ax = plt.subplots()\n",
    "#     plt.xticks(ypos, team_code)\n",
    "#     ax.bar(ypos, team_prediction,width=1,color='r',label=\"Predicted %\")\n",
    "#     ax.bar(ypos2, team_result,width=1,color='b',label=\"True %\")\n",
    "#     ax.set_xlabel('Team')\n",
    "#     ax.set_ylabel('Winning Percentage')\n",
    "#     plt.title('All teams 20'+ str(x) + ' Season')\n",
    "#     ax.legend()\n",
    "#     plt.xticks(rotation=90)\n",
    "#     # plt.rcParams['figure.figsize'] = [12, 8]\n",
    "#     # plt.rcParams['figure.dpi'] = 100\n",
    "#     plt.gcf().subplots_adjust(bottom=0.17)\n",
    "#     plt.show()\n",
    "#     os.chdir('../'+path)\n",
    "#     fig.savefig('ALLTEAM-20'+ str(x) +'.pdf')\n",
    "#     os.chdir('../')"
   ]
  },
  {
   "cell_type": "code",
   "execution_count": null,
   "metadata": {},
   "outputs": [],
   "source": []
  }
 ],
 "metadata": {
  "kernelspec": {
   "display_name": "Python 3",
   "language": "python",
   "name": "python3"
  },
  "language_info": {
   "codemirror_mode": {
    "name": "ipython",
    "version": 3
   },
   "file_extension": ".py",
   "mimetype": "text/x-python",
   "name": "python",
   "nbconvert_exporter": "python",
   "pygments_lexer": "ipython3",
   "version": "3.8.6rc1"
  }
 },
 "nbformat": 4,
 "nbformat_minor": 4
}
