{
 "cells": [
  {
   "cell_type": "code",
   "execution_count": 1,
   "metadata": {},
   "outputs": [],
   "source": [
    "import requests\n",
    "from bs4 import BeautifulSoup\n",
    "import pandas as pd\n",
    "import os"
   ]
  },
  {
   "cell_type": "code",
   "execution_count": 11,
   "metadata": {},
   "outputs": [],
   "source": [
    "team_code = ['TOR','NYK','BOS','BRK','PHI','CLE','IND','DET','CHI','MIL','MIA','ATL','CHO','WAS','ORL','OKC','POR','UTA','DEN','MIN','GSW','LAC','SAC','PHO','LAL','SAS','DAL','MEM','HOU','NOP']\n",
    "stats = ['date_game','opp_name','game_result','pts','opp_pts','wins','losses','game_streak']\n",
    "linkhead = \"https://www.basketball-reference.com/teams/\"\n",
    "linktail = \"/2020_games.html\"\n",
    "url_list = [linkhead + code + linktail for code in team_code]\n",
    "count = 0\n",
    "# Test for response\n",
    "for url in url_list:\n",
    "    page = requests.get(url)\n",
    "    # If the response was a successful call, proceed to mine\n",
    "    if page.status_code == 200:\n",
    "        soup = BeautifulSoup(page.content, 'html.parser')\n",
    "        stats_list = [[td.getText() for td in soup.findAll('td', {'data-stat': stat})] for stat in stats]\n",
    "        df = pd.DataFrame(stats_list).T\n",
    "        df.columns = stats[:]\n",
    "        df.to_csv('2020-' + team_code[count] + '.csv', index = False)\n",
    "        count+=1"
   ]
  },
  {
   "cell_type": "code",
   "execution_count": null,
   "metadata": {},
   "outputs": [],
   "source": [
    "page = requests.get(url_list[0])\n",
    "soup = BeautifulSoup(page.content, 'html.parser')\n"
   ]
  }
 ],
 "metadata": {
  "kernelspec": {
   "display_name": "Python 3",
   "language": "python",
   "name": "python3"
  },
  "language_info": {
   "codemirror_mode": {
    "name": "ipython",
    "version": 3
   },
   "file_extension": ".py",
   "mimetype": "text/x-python",
   "name": "python",
   "nbconvert_exporter": "python",
   "pygments_lexer": "ipython3",
   "version": "3.8.6rc1"
  }
 },
 "nbformat": 4,
 "nbformat_minor": 4
}
