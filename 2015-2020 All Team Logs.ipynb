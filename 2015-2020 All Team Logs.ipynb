{
 "cells": [
  {
   "cell_type": "code",
   "execution_count": 1,
   "metadata": {},
   "outputs": [],
   "source": [
    "import requests\n",
    "from bs4 import BeautifulSoup\n",
    "import pandas as pd\n",
    "import os"
   ]
  },
  {
   "cell_type": "code",
   "execution_count": 2,
   "metadata": {},
   "outputs": [
    {
     "name": "stdout",
     "output_type": "stream",
     "text": [
      "Successfully created the directory grandTeamLogs \n",
      "Successfully created the directory 15 \n",
      "Successfully created the directory 16 \n",
      "Successfully created the directory 17 \n",
      "Successfully created the directory 18 \n",
      "Successfully created the directory 19 \n",
      "Successfully created the directory 20 \n"
     ]
    },
    {
     "data": {
      "text/plain": [
       "'/Users/lamnguyen/Downloads/dmp/Basketball-Stats/grandTeamLogs'"
      ]
     },
     "execution_count": 2,
     "metadata": {},
     "output_type": "execute_result"
    }
   ],
   "source": [
    "year = 15\n",
    "team = 30\n",
    "team_code = ['TOR','NYK','BOS','BRK','PHI','CLE','IND','DET','CHI','MIL','MIA','ATL','CHO','WAS','ORL','OKC','POR','UTA','DEN','MIN','GSW','LAC','SAC','PHO','LAL','SAS','DAL','MEM','HOU','NOP']\n",
    "stats = ['date_game','opp_name','game_result','pts','opp_pts','wins','losses','game_streak']\n",
    "linkhead = \"https://www.basketball-reference.com/teams/\"\n",
    "linktail = \"_games.html\"\n",
    "\n",
    "# Create 2d array for all teams during 2015-2020\n",
    "url_list = [[0 for x in range(team)] for y in range(6)]\n",
    "\n",
    "# Create a big folder called grandTeamLogs for smaller folders by years\n",
    "path = \"grandTeamLogs\"\n",
    "try:\n",
    "    if not os.path.exists(path):\n",
    "        os.mkdir(path)\n",
    "        os.chdir(path)\n",
    "except OSError:\n",
    "    print (\"Creation of the directory %s failed\" % path)\n",
    "else:\n",
    "    print (\"Successfully created the directory %s \" % path)\n",
    "        \n",
    "cwd = os.getcwd()\n",
    "\n",
    "# Generate urls for all teams during that span\n",
    "for i in range (0,6):\n",
    "    path = str(year)\n",
    "    try:\n",
    "        if not os.path.exists(path):\n",
    "            os.mkdir(path)\n",
    "            os.chdir(path)\n",
    "    except OSError:\n",
    "        print (\"Creation of the directory %s failed\" % path)\n",
    "    else:\n",
    "        print (\"Successfully created the directory %s \" % path)\n",
    "    for j in range (0, team):\n",
    "        url_list[i][j] = linkhead + str(team_code[j]) + \"/20\" + str(year) + linktail\n",
    "        page = requests.get(url_list[i][j])\n",
    "        # If any generated link doesn't work, quit the generation process\n",
    "        if page.status_code != 200:\n",
    "            break\n",
    "        else:\n",
    "            soup = BeautifulSoup(page.content, 'html.parser')\n",
    "            stats_list = [[td.getText() for td in soup.findAll('td', {'data-stat': stat})] for stat in stats]\n",
    "            df = pd.DataFrame(stats_list).T\n",
    "            df.columns = stats[:]\n",
    "            df.to_csv('20' + str(year)+ '-' + team_code[j] + '.csv', index = False)\n",
    "    year += 1\n",
    "    os.chdir(cwd)"
   ]
  },
  {
   "cell_type": "code",
   "execution_count": null,
   "metadata": {},
   "outputs": [],
   "source": []
  }
 ],
 "metadata": {
  "kernelspec": {
   "display_name": "Python 3",
   "language": "python",
   "name": "python3"
  },
  "language_info": {
   "codemirror_mode": {
    "name": "ipython",
    "version": 3
   },
   "file_extension": ".py",
   "mimetype": "text/x-python",
   "name": "python",
   "nbconvert_exporter": "python",
   "pygments_lexer": "ipython3",
   "version": "3.8.6rc1"
  }
 },
 "nbformat": 4,
 "nbformat_minor": 4
}
